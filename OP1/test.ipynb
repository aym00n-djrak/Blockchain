{
 "cells": [
  {
   "cell_type": "code",
   "execution_count": 1,
   "metadata": {},
   "outputs": [
    {
     "ename": "ModuleNotFoundError",
     "evalue": "No module named 'cryptography'",
     "output_type": "error",
     "traceback": [
      "\u001b[1;31m---------------------------------------------------------------------------\u001b[0m",
      "\u001b[1;31mModuleNotFoundError\u001b[0m                       Traceback (most recent call last)",
      "Cell \u001b[1;32mIn[1], line 1\u001b[0m\n\u001b[1;32m----> 1\u001b[0m \u001b[39mfrom\u001b[39;00m \u001b[39mcryptography\u001b[39;00m\u001b[39m.\u001b[39;00m\u001b[39mhazmat\u001b[39;00m\u001b[39m.\u001b[39;00m\u001b[39mprimitives\u001b[39;00m\u001b[39m.\u001b[39;00m\u001b[39masymmetric\u001b[39;00m \u001b[39mimport\u001b[39;00m rsa\n\u001b[0;32m      3\u001b[0m private_key \u001b[39m=\u001b[39m rsa\u001b[39m.\u001b[39mgenerate_private_key(\n\u001b[0;32m      4\u001b[0m     public_exponent\u001b[39m=\u001b[39m\u001b[39m65537\u001b[39m,\n\u001b[0;32m      5\u001b[0m     key_size\u001b[39m=\u001b[39m\u001b[39m2048\u001b[39m,\n\u001b[0;32m      6\u001b[0m )\n\u001b[0;32m      8\u001b[0m \u001b[39mprint\u001b[39m(private_key)\n",
      "\u001b[1;31mModuleNotFoundError\u001b[0m: No module named 'cryptography'"
     ]
    }
   ],
   "source": [
    "from cryptography.hazmat.primitives.asymmetric import rsa\n",
    "\n",
    "private_key = rsa.generate_private_key(\n",
    "    public_exponent=65537,\n",
    "    key_size=2048,\n",
    ")\n",
    "\n",
    "print(private_key)\n",
    "\n",
    "print(\"Hello World!\")"
   ]
  }
 ],
 "metadata": {
  "kernelspec": {
   "display_name": "Python 3",
   "language": "python",
   "name": "python3"
  },
  "language_info": {
   "codemirror_mode": {
    "name": "ipython",
    "version": 3
   },
   "file_extension": ".py",
   "mimetype": "text/x-python",
   "name": "python",
   "nbconvert_exporter": "python",
   "pygments_lexer": "ipython3",
   "version": "3.8.8"
  },
  "orig_nbformat": 4
 },
 "nbformat": 4,
 "nbformat_minor": 2
}
